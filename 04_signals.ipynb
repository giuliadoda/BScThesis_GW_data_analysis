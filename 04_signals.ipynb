{
 "cells": [
  {
   "cell_type": "code",
   "execution_count": 1,
   "metadata": {},
   "outputs": [],
   "source": [
    "import numpy as np\n",
    "import astropy.constants as const"
   ]
  },
  {
   "cell_type": "code",
   "execution_count": 2,
   "metadata": {},
   "outputs": [],
   "source": [
    "# constants \n",
    "G   = const.G.value         # N m^2/kg^2\n",
    "M_S = const.M_sun.value     # kg\n",
    "C   = const.c.value         # m/s"
   ]
  },
  {
   "cell_type": "code",
   "execution_count": 3,
   "metadata": {},
   "outputs": [],
   "source": [
    "t_0   = 0                         # time of coalescence (s)\n",
    "\n",
    "# time\n",
    "time_step = 1/(2*5000)\n",
    "t = np.arange(-4, 0, time_step)\n",
    "\n",
    "# phase at coalescence (radian)\n",
    "phi = np.pi / 2"
   ]
  },
  {
   "cell_type": "code",
   "execution_count": 4,
   "metadata": {},
   "outputs": [],
   "source": [
    "# functions\n",
    "\n",
    "def chirp_mass_sm(m_1, m_2):\n",
    "    return pow(m_1*m_2, 3/5) * pow(m_1+m_2, -1/5)\n",
    "\n",
    "def chirp_mass(a,b):\n",
    "    return pow(a*b, 3/5) * pow(a+b, -1/5)\n",
    "\n",
    "def max_f(m_tot):\n",
    "    return pow(2 * np.pi * np.sqrt(2), -1) * pow(G * M_S / (pow(C,3)), -1) * M_S / m_tot     \n",
    "\n",
    "def frequency(f0, mc):\n",
    "    return pow( pow(f0, -8/3) - 256/5 * pow(np.pi, 8/3) * pow(mc / M_S, 5/3) * pow((G*M_S)/pow(C,3), 5/3) * (t-t_0), -3/8 )\n",
    "\n",
    "def a_factor(dist, m1sm, m2sm):\n",
    "    return 4*C/dist * pow(G*M_S, 5/3) * pow(C, -5) * m1sm * m2sm * pow(m1sm+m2sm, -1/3)\n",
    "\n",
    "def b_factor(freq):\n",
    "    return pow(np.pi * freq, 2/3)\n",
    "\n",
    "def strain(x,f):\n",
    "    return np.cos(2 * np.pi * f * x + phi)"
   ]
  },
  {
   "attachments": {},
   "cell_type": "markdown",
   "metadata": {},
   "source": [
    "# GW150914 (O1)"
   ]
  },
  {
   "cell_type": "code",
   "execution_count": 5,
   "metadata": {},
   "outputs": [],
   "source": [
    "# chirp parameters\n",
    "m1_sm = 35.6                      # compact object 1 mass (units of solar masses)\n",
    "m2_sm = 30.6                      # compact object 2 mass (units of solar masses)\n",
    "m1    = m1_sm * M_S               # compact object 1 mass (kg)\n",
    "m2    = m2_sm * M_S               # compact object 2 mass (kg)\n",
    "m     = m1 + m2                   # total mass\n",
    "d_pc  = 440 * 10**6               # distance (pc)\n",
    "d     = d_pc * 3.086 * 10**(16)   # distance (m)\n",
    "\n",
    "# chirp mass (solar masses)\n",
    "mc_sm = chirp_mass_sm(m1_sm,m2_sm)\n",
    "mc = chirp_mass(m1,m2)\n",
    "\n",
    "# maximum frequency in the merger (Hz)\n",
    "f_0 = max_f(m)   \n",
    "\n",
    "# frequency\n",
    "f = frequency(f_0, mc)\n",
    "\n",
    "# waveform with + (plus) polarization\n",
    "\n",
    "h0 = a_factor(d, m1_sm, m2_sm) * b_factor(f) * strain(t,f)\n",
    "\n",
    "h0[-1] = 0 # making sure is 0 for t = t0\n",
    "\n",
    "# import in file\n",
    "np.savetxt(\"GW150914.txt\", h0)"
   ]
  },
  {
   "attachments": {},
   "cell_type": "markdown",
   "metadata": {},
   "source": [
    "# GW150914 (d = 44 Mpc)"
   ]
  },
  {
   "cell_type": "code",
   "execution_count": 6,
   "metadata": {},
   "outputs": [],
   "source": [
    "# chirp parameters\n",
    "m1_sm = 35.6                      # compact object 1 mass (units of solar masses)\n",
    "m2_sm = 30.6                      # compact object 2 mass (units of solar masses)\n",
    "m1    = m1_sm * M_S               # compact object 1 mass (kg)\n",
    "m2    = m2_sm * M_S               # compact object 2 mass (kg)\n",
    "m     = m1 + m2                   # total mass\n",
    "d_pc  = 44 * 10**6               # distance (pc)\n",
    "d     = d_pc * 3.086 * 10**(16)   # distance (m)\n",
    "\n",
    "# chirp mass (solar masses)\n",
    "mc_sm = chirp_mass_sm(m1_sm,m2_sm)\n",
    "mc = chirp_mass(m1,m2)\n",
    "\n",
    "# maximum frequency in the merger (Hz)\n",
    "f_0 = max_f(m)   \n",
    "\n",
    "# frequency\n",
    "f = frequency(f_0, mc)\n",
    "\n",
    "# waveform with + (plus) polarization\n",
    "\n",
    "h0a = a_factor(d, m1_sm, m2_sm) * b_factor(f) * strain(t,f)\n",
    "\n",
    "h0a[-1] = 0 # making sure is 0 for t = t0\n",
    "\n",
    "# import in file\n",
    "np.savetxt(\"GW150914a.txt\", h0a)"
   ]
  },
  {
   "attachments": {},
   "cell_type": "markdown",
   "metadata": {},
   "source": [
    "# GW150914 (d = 4400 Mpc)"
   ]
  },
  {
   "cell_type": "code",
   "execution_count": 7,
   "metadata": {},
   "outputs": [],
   "source": [
    "# chirp parameters\n",
    "m1_sm = 35.6                      # compact object 1 mass (units of solar masses)\n",
    "m2_sm = 30.6                      # compact object 2 mass (units of solar masses)\n",
    "m1    = m1_sm * M_S               # compact object 1 mass (kg)\n",
    "m2    = m2_sm * M_S               # compact object 2 mass (kg)\n",
    "m     = m1 + m2                   # total mass\n",
    "d_pc  = 4400 * 10**6               # distance (pc)\n",
    "d     = d_pc * 3.086 * 10**(16)   # distance (m)\n",
    "\n",
    "# chirp mass (solar masses)\n",
    "mc_sm = chirp_mass_sm(m1_sm,m2_sm)\n",
    "mc = chirp_mass(m1,m2)\n",
    "\n",
    "# maximum frequency in the merger (Hz)\n",
    "f_0 = max_f(m)   \n",
    "\n",
    "# frequency\n",
    "f = frequency(f_0, mc)\n",
    "\n",
    "# waveform with + (plus) polarization\n",
    "\n",
    "h0b = a_factor(d, m1_sm, m2_sm) * b_factor(f) * strain(t,f)\n",
    "\n",
    "h0b[-1] = 0 # making sure is 0 for t = t0\n",
    "\n",
    "# import in file\n",
    "np.savetxt(\"GW150914b.txt\", h0b)"
   ]
  },
  {
   "attachments": {},
   "cell_type": "markdown",
   "metadata": {},
   "source": [
    "# GW150914 (d = 20 Gpc)"
   ]
  },
  {
   "cell_type": "code",
   "execution_count": 8,
   "metadata": {},
   "outputs": [],
   "source": [
    "# chirp parameters\n",
    "m1_sm = 35.6                      # compact object 1 mass (units of solar masses)\n",
    "m2_sm = 30.6                      # compact object 2 mass (units of solar masses)\n",
    "m1    = m1_sm * M_S               # compact object 1 mass (kg)\n",
    "m2    = m2_sm * M_S               # compact object 2 mass (kg)\n",
    "m     = m1 + m2                   # total mass\n",
    "d_pc  = 20 * 10**9               # distance (pc)\n",
    "d     = d_pc * 3.086 * 10**(16)   # distance (m)\n",
    "\n",
    "# chirp mass (solar masses)\n",
    "mc_sm = chirp_mass_sm(m1_sm,m2_sm)\n",
    "mc = chirp_mass(m1,m2)\n",
    "\n",
    "# maximum frequency in the merger (Hz)\n",
    "f_0 = max_f(m)   \n",
    "\n",
    "# frequency\n",
    "f = frequency(f_0, mc)\n",
    "\n",
    "# waveform with + (plus) polarization\n",
    "\n",
    "h0x = a_factor(d, m1_sm, m2_sm) * b_factor(f) * strain(t,f)\n",
    "\n",
    "h0x[-1] = 0 # making sure is 0 for t = t0\n",
    "\n",
    "# import in file\n",
    "np.savetxt(\"GW150914x.txt\", h0x)"
   ]
  },
  {
   "attachments": {},
   "cell_type": "markdown",
   "metadata": {},
   "source": [
    "# GW150914 (d = 44 Gpc)"
   ]
  },
  {
   "cell_type": "code",
   "execution_count": 9,
   "metadata": {},
   "outputs": [],
   "source": [
    "# chirp parameters\n",
    "m1_sm = 35.6                      # compact object 1 mass (units of solar masses)\n",
    "m2_sm = 30.6                      # compact object 2 mass (units of solar masses)\n",
    "m1    = m1_sm * M_S               # compact object 1 mass (kg)\n",
    "m2    = m2_sm * M_S               # compact object 2 mass (kg)\n",
    "m     = m1 + m2                   # total mass\n",
    "d_pc  = 44 * 10**9               # distance (pc)\n",
    "d     = d_pc * 3.086 * 10**(16)   # distance (m)\n",
    "\n",
    "# chirp mass (solar masses)\n",
    "mc_sm = chirp_mass_sm(m1_sm,m2_sm)\n",
    "mc = chirp_mass(m1,m2)\n",
    "\n",
    "# maximum frequency in the merger (Hz)\n",
    "f_0 = max_f(m)   \n",
    "\n",
    "# frequency\n",
    "f = frequency(f_0, mc)\n",
    "\n",
    "# waveform with + (plus) polarization\n",
    "\n",
    "h0c = a_factor(d, m1_sm, m2_sm) * b_factor(f) * strain(t,f)\n",
    "\n",
    "h0c[-1] = 0 # making sure is 0 for t = t0\n",
    "\n",
    "# import in file\n",
    "np.savetxt(\"GW150914c.txt\", h0c)"
   ]
  },
  {
   "attachments": {},
   "cell_type": "markdown",
   "metadata": {},
   "source": [
    "# GW150914 (d = 100 Gpc )"
   ]
  },
  {
   "cell_type": "code",
   "execution_count": 10,
   "metadata": {},
   "outputs": [],
   "source": [
    "# chirp parameters\n",
    "m1_sm = 35.6                      # compact object 1 mass (units of solar masses)\n",
    "m2_sm = 30.6                      # compact object 2 mass (units of solar masses)\n",
    "m1    = m1_sm * M_S               # compact object 1 mass (kg)\n",
    "m2    = m2_sm * M_S               # compact object 2 mass (kg)\n",
    "m     = m1 + m2                   # total mass\n",
    "d_pc  = 100 * 10**9               # distance (pc)\n",
    "d     = d_pc * 3.086 * 10**(16)   # distance (m)\n",
    "\n",
    "# chirp mass (solar masses)\n",
    "mc_sm = chirp_mass_sm(m1_sm,m2_sm)\n",
    "mc = chirp_mass(m1,m2)\n",
    "\n",
    "# maximum frequency in the merger (Hz)\n",
    "f_0 = max_f(m)   \n",
    "\n",
    "# frequency\n",
    "f = frequency(f_0, mc)\n",
    "\n",
    "# waveform with + (plus) polarization\n",
    "\n",
    "h0c1 = a_factor(d, m1_sm, m2_sm) * b_factor(f) * strain(t,f)\n",
    "\n",
    "h0c1[-1] = 0 # making sure is 0 for t = t0\n",
    "\n",
    "# import in file\n",
    "np.savetxt(\"GW150914c1.txt\", h0c1)"
   ]
  },
  {
   "attachments": {},
   "cell_type": "markdown",
   "metadata": {},
   "source": [
    "# GW150914 (d = 440 Gpc)"
   ]
  },
  {
   "cell_type": "code",
   "execution_count": 11,
   "metadata": {},
   "outputs": [],
   "source": [
    "# chirp parameters\n",
    "m1_sm = 35.6                      # compact object 1 mass (units of solar masses)\n",
    "m2_sm = 30.6                      # compact object 2 mass (units of solar masses)\n",
    "m1    = m1_sm * M_S               # compact object 1 mass (kg)\n",
    "m2    = m2_sm * M_S               # compact object 2 mass (kg)\n",
    "m     = m1 + m2                   # total mass\n",
    "d_pc  = 440 * 10**9               # distance (pc)\n",
    "d     = d_pc * 3.086 * 10**(16)   # distance (m)\n",
    "\n",
    "# chirp mass (solar masses)\n",
    "mc_sm = chirp_mass_sm(m1_sm,m2_sm)\n",
    "mc = chirp_mass(m1,m2)\n",
    "\n",
    "# maximum frequency in the merger (Hz)\n",
    "f_0 = max_f(m)   \n",
    "\n",
    "# frequency\n",
    "f = frequency(f_0, mc)\n",
    "\n",
    "# waveform with + (plus) polarization\n",
    "\n",
    "h0d = a_factor(d, m1_sm, m2_sm) * b_factor(f) * strain(t,f)\n",
    "\n",
    "h0d[-1] = 0 # making sure is 0 for t = t0\n",
    "\n",
    "# import in file\n",
    "np.savetxt(\"GW150914d.txt\", h0d)"
   ]
  },
  {
   "attachments": {},
   "cell_type": "markdown",
   "metadata": {},
   "source": [
    "# GW150914 (d = 4400 Gpc)"
   ]
  },
  {
   "cell_type": "code",
   "execution_count": 12,
   "metadata": {},
   "outputs": [],
   "source": [
    "# chirp parameters\n",
    "m1_sm = 35.6                      # compact object 1 mass (units of solar masses)\n",
    "m2_sm = 30.6                      # compact object 2 mass (units of solar masses)\n",
    "m1    = m1_sm * M_S               # compact object 1 mass (kg)\n",
    "m2    = m2_sm * M_S               # compact object 2 mass (kg)\n",
    "m     = m1 + m2                   # total mass\n",
    "d_pc  = 4400 * 10**9               # distance (pc)\n",
    "d     = d_pc * 3.086 * 10**(16)   # distance (m)\n",
    "\n",
    "# chirp mass (solar masses)\n",
    "mc_sm = chirp_mass_sm(m1_sm,m2_sm)\n",
    "mc = chirp_mass(m1,m2)\n",
    "\n",
    "# maximum frequency in the merger (Hz)\n",
    "f_0 = max_f(m)   \n",
    "\n",
    "# frequency\n",
    "f = frequency(f_0, mc)\n",
    "\n",
    "# waveform with + (plus) polarization\n",
    "\n",
    "h0e = a_factor(d, m1_sm, m2_sm) * b_factor(f) * strain(t,f)\n",
    "\n",
    "h0e[-1] = 0 # making sure is 0 for t = t0\n",
    "\n",
    "# import in file\n",
    "np.savetxt(\"GW150914e.txt\", h0e)"
   ]
  },
  {
   "attachments": {},
   "cell_type": "markdown",
   "metadata": {},
   "source": [
    "# GW150914 (d = 44000 Gpc)"
   ]
  },
  {
   "cell_type": "code",
   "execution_count": 13,
   "metadata": {},
   "outputs": [],
   "source": [
    "# chirp parameters\n",
    "m1_sm = 35.6                      # compact object 1 mass (units of solar masses)\n",
    "m2_sm = 30.6                      # compact object 2 mass (units of solar masses)\n",
    "m1    = m1_sm * M_S               # compact object 1 mass (kg)\n",
    "m2    = m2_sm * M_S               # compact object 2 mass (kg)\n",
    "m     = m1 + m2                   # total mass\n",
    "d_pc  = 44000 * 10**9               # distance (pc)\n",
    "d     = d_pc * 3.086 * 10**(16)   # distance (m)\n",
    "\n",
    "# chirp mass (solar masses)\n",
    "mc_sm = chirp_mass_sm(m1_sm,m2_sm)\n",
    "mc = chirp_mass(m1,m2)\n",
    "\n",
    "# maximum frequency in the merger (Hz)\n",
    "f_0 = max_f(m)   \n",
    "\n",
    "# frequency\n",
    "f = frequency(f_0, mc)\n",
    "\n",
    "# waveform with + (plus) polarization\n",
    "\n",
    "h0f = a_factor(d, m1_sm, m2_sm) * b_factor(f) * strain(t,f)\n",
    "\n",
    "h0f[-1] = 0 # making sure is 0 for t = t0\n",
    "\n",
    "# import in file\n",
    "np.savetxt(\"GW150914f.txt\", h0f)"
   ]
  },
  {
   "attachments": {},
   "cell_type": "markdown",
   "metadata": {},
   "source": [
    "# GW150914 (d = 440000 Gpc)"
   ]
  },
  {
   "cell_type": "code",
   "execution_count": 14,
   "metadata": {},
   "outputs": [],
   "source": [
    "# chirp parameters\n",
    "m1_sm = 35.6                      # compact object 1 mass (units of solar masses)\n",
    "m2_sm = 30.6                      # compact object 2 mass (units of solar masses)\n",
    "m1    = m1_sm * M_S               # compact object 1 mass (kg)\n",
    "m2    = m2_sm * M_S               # compact object 2 mass (kg)\n",
    "m     = m1 + m2                   # total mass\n",
    "d_pc  = 440000 * 10**9               # distance (pc)\n",
    "d     = d_pc * 3.086 * 10**(16)   # distance (m)\n",
    "\n",
    "# chirp mass (solar masses)\n",
    "mc_sm = chirp_mass_sm(m1_sm,m2_sm)\n",
    "mc = chirp_mass(m1,m2)\n",
    "\n",
    "# maximum frequency in the merger (Hz)\n",
    "f_0 = max_f(m)   \n",
    "\n",
    "# frequency\n",
    "f = frequency(f_0, mc)\n",
    "\n",
    "# waveform with + (plus) polarization\n",
    "\n",
    "h0g = a_factor(d, m1_sm, m2_sm) * b_factor(f) * strain(t,f)\n",
    "\n",
    "h0g[-1] = 0 # making sure is 0 for t = t0\n",
    "\n",
    "# import in file\n",
    "np.savetxt(\"GW150914g.txt\", h0g)"
   ]
  }
 ],
 "metadata": {
  "kernelspec": {
   "display_name": "base",
   "language": "python",
   "name": "python3"
  },
  "language_info": {
   "codemirror_mode": {
    "name": "ipython",
    "version": 3
   },
   "file_extension": ".py",
   "mimetype": "text/x-python",
   "name": "python",
   "nbconvert_exporter": "python",
   "pygments_lexer": "ipython3",
   "version": "3.11.8"
  },
  "orig_nbformat": 4,
  "vscode": {
   "interpreter": {
    "hash": "7b05a972a47ec3f0eeeb5b1a46c5a84e8c40d08ab2f68cad93b05abfe9750a25"
   }
  }
 },
 "nbformat": 4,
 "nbformat_minor": 2
}
